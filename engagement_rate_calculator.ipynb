{
 "cells": [
  {
   "cell_type": "code",
   "execution_count": null,
   "id": "ca446031",
   "metadata": {},
   "outputs": [],
   "source": [
    "%pip install requests --quiet\n",
    "%pip install selenium --quiet\n",
    "%pip install webdriver_manager --quiet"
   ]
  },
  {
   "cell_type": "code",
   "execution_count": 4,
   "id": "409d0136",
   "metadata": {},
   "outputs": [
    {
     "name": "stdout",
     "output_type": "stream",
     "text": [
      "\n"
     ]
    },
    {
     "name": "stderr",
     "output_type": "stream",
     "text": [
      "The chromedriver version (114.0.5735.90) detected in PATH at C:\\Users\\andre\\Desktop\\ozibook\\linkedin\\chromedriver.exe might not be compatible with the detected chrome version (115.0.5790.102); currently, chromedriver 115.0.5790.170 is recommended for chrome 115.*, so it is advised to delete the driver in PATH and retry\n"
     ]
    }
   ],
   "source": [
    "from selenium import webdriver\n",
    "from bs4 import BeautifulSoup\n",
    "from webdriver_manager.chrome import ChromeDriverManager\n",
    "from selenium.webdriver.chrome.service import Service\n",
    "import re\n",
    "import time\n",
    "from selenium.webdriver.common.by import By\n",
    "import requests\n",
    "import pandas as pd\n",
    "from selenium.webdriver.support import expected_conditions as EC\n",
    "from selenium.webdriver.support.ui import WebDriverWait\n",
    "from selenium.common.exceptions import StaleElementReferenceException\n",
    "from selenium.common.exceptions import NoSuchElementException, StaleElementReferenceException\n",
    "\n",
    "\n",
    "#enter linkedin username and password\n",
    "\n",
    "username_string = \"LINKEDIN USERNAME\"\n",
    "\n",
    "password_string = \"LINKEDIN PASSWORD\"\n",
    "print()\n",
    "\n",
    "\n",
    "#create a browser-specific (Google Chrome) web navigation simulator:\n",
    "service = Service()\n",
    "options = webdriver.ChromeOptions()\n",
    "browser = webdriver.Chrome(service=service, options=options)\n",
    "\n",
    "#open the LinkedIn login page and login under a specified account:\n",
    "browser.get('https://www.linkedin.com/login')\n",
    "#enter the specified information to login to LinkedIn:\n",
    "elementID = browser.find_element(By.ID,'username')\n",
    "elementID.send_keys(username_string)\n",
    "elementID = browser.find_element(By.ID,'password')\n",
    "elementID.send_keys(password_string)\n",
    "elementID.submit()"
   ]
  },
  {
   "cell_type": "code",
   "execution_count": 18,
   "id": "33f3748b",
   "metadata": {},
   "outputs": [
    {
     "name": "stdout",
     "output_type": "stream",
     "text": [
      "extraction-completed\n"
     ]
    }
   ],
   "source": [
    "from selenium import webdriver\n",
    "from selenium.common.exceptions import NoSuchElementException\n",
    "from selenium.webdriver.common.by import By\n",
    "import time\n",
    "\n",
    "# def random_sleep(min_delay=3, max_delay=10):\n",
    "#     delay = random.uniform(min_delay, max_delay)\n",
    "#     time.sleep(delay)\n",
    "\n",
    "\n",
    "#ENTER RESPECTIVE PROFILE FOLLOWERS without commas and quotes, as int.\n",
    "followers = 3126\n",
    "\n",
    "\n",
    "\n",
    "\n",
    "# INSERT LATEST POST URLS OF THE PROFILE (MAX 16 POSTS)\n",
    "urls = [\n",
    "   \"https://www.linkedin.com/posts/nidhikabahl_identities-socialidentity-explore-activity-7108658693570764800-bES7?utm_source=share&utm_medium=member_desktop\",\n",
    "    \"https://www.linkedin.com/posts/nidhikabahl_ambition-success-winning-activity-7108176651598901248-EmNK?utm_source=share&utm_medium=member_desktop\",\n",
    "    \"https://www.linkedin.com/posts/nidhikabahl_stoicism-resilience-courage-activity-7107439454193094656-Psqx?utm_source=share&utm_medium=member_desktop\",\n",
    "    \"https://www.linkedin.com/posts/nidhikabahl_mounttitlis-love-marriage-activity-7106854735697055744-0NpJ?utm_source=share&utm_medium=member_desktop\",\n",
    "    \"https://www.linkedin.com/posts/nidhikabahl_mindfulness-activity-7105603912350466049-5N5Z?utm_source=share&utm_medium=member_desktop\",\n",
    "    \"https://www.linkedin.com/feed/update/urn:li:activity:7105042602156027904?utm_source=share&utm_medium=member_desktop\",\n",
    "    \"https://www.linkedin.com/feed/update/urn:li:activity:7104184577270689792?utm_source=share&utm_medium=member_desktop\",\n",
    "    \"https://www.linkedin.com/posts/nidhikabahl_selfcare-activity-7103795708226379776-qGTI?utm_source=share&utm_medium=member_desktop\",\n",
    "    \"https://www.linkedin.com/posts/nidhikabahl_authorlife-books-reading-activity-7102828267673444352-v5EX?utm_source=share&utm_medium=member_desktop\",\n",
    "    \"https://www.linkedin.com/posts/nidhikabahl_worklifebalance-fulfilledlife-happinessadvantage-activity-7102270506074071041-_t_3?utm_source=share&utm_medium=member_desktop\",\n",
    "    \"https://www.linkedin.com/posts/nidhikabahl_pause-reset-rejuvenate-activity-7101754703339806720-S1oc?utm_source=share&utm_medium=member_desktop\",\n",
    "    \"https://www.linkedin.com/posts/nidhikabahl_on-23rd-august-2023-i-had-the-immense-honour-activity-7101200093969588224-yFlo?utm_source=share&utm_medium=member_desktop\",\n",
    "    \"https://www.linkedin.com/posts/nidhikabahl_stress-management-techniques-activity-7100677756312576000-78xF?utm_source=share&utm_medium=member_desktop\",\n",
    "    \"https://www.linkedin.com/posts/nidhikabahl_introducing-nidhikas-weekly-book-spotlight-activity-7100211717116170240-H6Zi?utm_source=share&utm_medium=member_desktop\",\n",
    "    \"https://www.linkedin.com/posts/nidhikabahl_throwback-dreamsdocometrue-activity-7100167128900677632-x4Pl?utm_source=share&utm_medium=member_desktop\",\n",
    "    \"https://www.linkedin.com/posts/nidhikabahl_the-quality-of-our-thoughts-determines-the-activity-7026782237937348608-weuA?utm_source=share&utm_medium=member_desktop\"\n",
    "]\n",
    "   \n",
    "\n",
    "# List to store extracted values and URLs\n",
    "#captions = []\n",
    "likers = []\n",
    "reposts = []\n",
    "comments = []\n",
    "Url = []\n",
    "\n",
    "# Iterate over the URLs\n",
    "for url in urls:\n",
    "    browser.get(url)\n",
    "    time.sleep(1)\n",
    "    \n",
    "    # Initialize variables for extracted values\n",
    "    comments_value = None\n",
    "    reposts_value = None\n",
    "    likes_value = None\n",
    "    captions_value=None\n",
    "    \n",
    "    try:\n",
    "        see_more_btn = browser.find_element(By.CLASS_NAME, 'see-more.inline')\n",
    "        see_more_btn.click()\n",
    "        time.sleep(2)\n",
    "    except NoSuchElementException:\n",
    "        pass\n",
    "\n",
    "\n",
    "    try:\n",
    "        # Find the comments element\n",
    "        comments_element = browser.find_element(By.XPATH, \"//button[contains(@aria-label, 'comments') or contains(@aria-label, 'comment')][contains(concat(' ', normalize-space(@class), ' '), ' t-black--light social-details-social-counts__count-value t-12 hoverable-link-text ')]\")\n",
    "        span = comments_element.find_element(By.TAG_NAME, \"span\")\n",
    "        comments_value = span.text\n",
    "        comments_value = comments_value.split(\" \")[0]\n",
    "        comments_value = comments_value.replace(\",\",\"\")\n",
    "    except NoSuchElementException:\n",
    "        comments_value = \"0\"\n",
    "\n",
    "    try:\n",
    "        # Find the reposts element\n",
    "        reposts_element = browser.find_element(By.XPATH, \"//button[contains(@aria-label, 'reposts') or contains(@aria-label, 'repost')][contains(concat(' ', normalize-space(@class), ' '), ' ember-view t-black--light t-12 hoverable-link-text ')]\")\n",
    "        span = reposts_element.find_element(By.TAG_NAME, \"span\")\n",
    "        reposts_value = span.text\n",
    "        reposts_value = reposts_value.split(\" \")[0]\n",
    "        reposts_value = reposts_value.replace(\",\",\"\")\n",
    "    except NoSuchElementException:\n",
    "        reposts_value = \"0\"\n",
    "\n",
    "    try:\n",
    "        # Find the likes element\n",
    "        likes_element = browser.find_element(By.CLASS_NAME, \"social-details-social-counts__count-value\")\n",
    "        likes_value = likes_element.text\n",
    "        likes_value = likes_value.replace(\",\",\"\")\n",
    "    except NoSuchElementException:\n",
    "        likes_value = \"0\"\n",
    "    \n",
    "    # Append the extracted values and URL to the lists\n",
    "    likers.append(int(likes_value))\n",
    "    reposts.append(int(reposts_value))\n",
    "    comments.append(int(comments_value))\n",
    "#     captions.append(captions_value)\n",
    "    Url.append(url)\n",
    "\n",
    "print(\"extraction-completed\")\n",
    "\n",
    "\n"
   ]
  },
  {
   "cell_type": "code",
   "execution_count": 19,
   "id": "ef44b754",
   "metadata": {},
   "outputs": [
    {
     "name": "stdout",
     "output_type": "stream",
     "text": [
      "engagement rate: \n",
      "36.72\n"
     ]
    }
   ],
   "source": [
    "\n",
    "#engagement_rate calculation\n",
    "\n",
    "engagement_rate = float(((sum(likers)+sum(comments)+sum(reposts))/followers)*100)\n",
    "print(\"engagement rate: \")\n",
    "print(round(engagement_rate,2))\n",
    "\n"
   ]
  },
  {
   "cell_type": "code",
   "execution_count": null,
   "id": "68696354",
   "metadata": {},
   "outputs": [],
   "source": []
  }
 ],
 "metadata": {
  "kernelspec": {
   "display_name": "Python 3 (ipykernel)",
   "language": "python",
   "name": "python3"
  },
  "language_info": {
   "codemirror_mode": {
    "name": "ipython",
    "version": 3
   },
   "file_extension": ".py",
   "mimetype": "text/x-python",
   "name": "python",
   "nbconvert_exporter": "python",
   "pygments_lexer": "ipython3",
   "version": "3.9.12"
  }
 },
 "nbformat": 4,
 "nbformat_minor": 5
}
